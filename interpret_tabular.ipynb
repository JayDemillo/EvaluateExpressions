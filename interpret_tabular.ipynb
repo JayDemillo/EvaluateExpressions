{
  "nbformat": 4,
  "nbformat_minor": 0,
  "metadata": {
    "colab": {
      "name": "interpret_tabular.ipynb",
      "provenance": [],
      "collapsed_sections": [],
      "authorship_tag": "ABX9TyNnP/PtZOK3IWBVpZ2XJZ4Q",
      "include_colab_link": true
    },
    "kernelspec": {
      "name": "python3",
      "display_name": "Python 3"
    }
  },
  "cells": [
    {
      "cell_type": "markdown",
      "metadata": {
        "id": "view-in-github",
        "colab_type": "text"
      },
      "source": [
        "<a href=\"https://colab.research.google.com/github/justinwhatley/EvaluateExpressions/blob/master/interpret_tabular.ipynb\" target=\"_parent\"><img src=\"https://colab.research.google.com/assets/colab-badge.svg\" alt=\"Open In Colab\"/></a>"
      ]
    },
    {
      "cell_type": "markdown",
      "metadata": {
        "id": "C0_I5c5Kq5fN",
        "colab_type": "text"
      },
      "source": [
        "Connect with Google Drive and extract datasets"
      ]
    },
    {
      "cell_type": "code",
      "metadata": {
        "id": "v-AEtx21qP5b",
        "colab_type": "code",
        "outputId": "24b4e171-c358-4063-e229-7914ddd98ddd",
        "colab": {
          "base_uri": "https://localhost:8080/",
          "height": 51
        }
      },
      "source": [
        "from google.colab import drive\n",
        "drive.mount('/content/drive')\n",
        "!ls '/content/drive/My Drive/Work/tabular_interp'"
      ],
      "execution_count": 0,
      "outputs": [
        {
          "output_type": "stream",
          "text": [
            "Mounted at /content/drive\n",
            "house-prices-advanced-regression-techniques.zip  shelter-animal-outcomes.zip\n"
          ],
          "name": "stdout"
        }
      ]
    },
    {
      "cell_type": "code",
      "metadata": {
        "id": "E0wq_1a4sYUI",
        "colab_type": "code",
        "colab": {}
      },
      "source": [
        "# Create local directory\n",
        "import os\n",
        "local_path = os.path.expanduser('~/data')\n",
        "try:\n",
        "  os.makedirs(local_download_path)\n",
        "except: \n",
        "  pass"
      ],
      "execution_count": 0,
      "outputs": []
    },
    {
      "cell_type": "code",
      "metadata": {
        "id": "Nc5j6TSjrONg",
        "colab_type": "code",
        "colab": {}
      },
      "source": [
        "# Dataset paths\n",
        "remote_data_dir = '/content/drive/My Drive/Work/tabular_interp'\n",
        "animal_shelter_data = 'shelter-animal-outcomes'\n",
        "house_prices_data = 'house-prices-advanced-regression-techniques.zip'"
      ],
      "execution_count": 0,
      "outputs": []
    },
    {
      "cell_type": "code",
      "metadata": {
        "id": "gXZPN99xtqu7",
        "colab_type": "code",
        "colab": {}
      },
      "source": [
        "def extract_zipped_directory(extract_from, extract_to):\n",
        "  with ZipFile((extract_from), 'r') as handle:\n",
        "    handle.extractall(extract_to)\n",
        "\n",
        "from pathlib import Path\n",
        "from zipfile import ZipFile\n",
        "source_path = Path(remote_data_dir, animal_shelter_data + '.zip')\n",
        "destination_path = Path(local_path, animal_shelter_data)\n",
        "extract_zipped_directory(source_path, destination_path)"
      ],
      "execution_count": 0,
      "outputs": []
    },
    {
      "cell_type": "code",
      "metadata": {
        "id": "Fza1yM7QL2pd",
        "colab_type": "code",
        "colab": {}
      },
      "source": [
        "import pandas as pd"
      ],
      "execution_count": 0,
      "outputs": []
    },
    {
      "cell_type": "code",
      "metadata": {
        "id": "Lj7RbyBMtD4W",
        "colab_type": "code",
        "colab": {}
      },
      "source": [
        "def read_csv(filepath, compression = None):\n",
        "  if compression == 'gzip':\n",
        "    import gzip\n",
        "    with gzip.open(filepath, 'rb') as f_in:\n",
        "        df = pd.read_csv(filepath)\n",
        "  return df\n",
        "\n",
        "test_path = Path(local_path, animal_shelter_data, 'test.csv.gz')\n",
        "shelter_test_df = read_csv(test_path, compression = 'gzip')\n",
        "train_path = Path(local_path, animal_shelter_data, 'train.csv.gz')\n",
        "shelter_train_df = read_csv(train_path, compression = 'gzip')\n"
      ],
      "execution_count": 0,
      "outputs": []
    },
    {
      "cell_type": "markdown",
      "metadata": {
        "id": "ZLEiGOWD2LLf",
        "colab_type": "text"
      },
      "source": [
        ""
      ]
    },
    {
      "cell_type": "code",
      "metadata": {
        "id": "RWyFUMa4v-iA",
        "colab_type": "code",
        "outputId": "3358776f-4576-4157-f6f8-e51cb8910c15",
        "colab": {
          "base_uri": "https://localhost:8080/",
          "height": 255
        }
      },
      "source": [
        "print(shelter_test_df)"
      ],
      "execution_count": 0,
      "outputs": [
        {
          "output_type": "stream",
          "text": [
            "          ID      Name  ...                           Breed        Color\n",
            "0          1    Summer  ...          Labrador Retriever Mix    Red/White\n",
            "1          2  Cheyenne  ...  German Shepherd/Siberian Husky    Black/Tan\n",
            "2          3       Gus  ...          Domestic Shorthair Mix  Brown Tabby\n",
            "3          4     Pongo  ...               Collie Smooth Mix     Tricolor\n",
            "4          5   Skooter  ...            Miniature Poodle Mix        White\n",
            "...      ...       ...  ...                             ...          ...\n",
            "11451  11452       NaN  ...          Domestic Shorthair Mix        Black\n",
            "11452  11453       NaN  ...          Domestic Shorthair Mix         Blue\n",
            "11453  11454       NaN  ...          Domestic Shorthair Mix       Calico\n",
            "11454  11455     Rambo  ...             German Shepherd Mix    Black/Tan\n",
            "11455  11456     Gusto  ...              Labrador Retriever        Cream\n",
            "\n",
            "[11456 rows x 8 columns]\n"
          ],
          "name": "stdout"
        }
      ]
    },
    {
      "cell_type": "code",
      "metadata": {
        "id": "t05lHU_CL-RH",
        "colab_type": "code",
        "colab": {}
      },
      "source": [
        ""
      ],
      "execution_count": 0,
      "outputs": []
    }
  ]
}